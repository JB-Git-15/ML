{
  "nbformat": 4,
  "nbformat_minor": 0,
  "metadata": {
    "colab": {
      "provenance": []
    },
    "kernelspec": {
      "name": "python3",
      "display_name": "Python 3"
    },
    "language_info": {
      "name": "python"
    }
  },
  "cells": [
    {
      "cell_type": "code",
      "execution_count": 2,
      "metadata": {
        "id": "IB175HuEVLbF"
      },
      "outputs": [],
      "source": [
        "import torch\n",
        "from torch import nn\n",
        "import matplotlib.pyplot as plt\n",
        "import numpy as np"
      ]
    },
    {
      "cell_type": "code",
      "source": [
        "X = torch.linspace(0,45,100)\n",
        "Y = 4.434*X + 3.14"
      ],
      "metadata": {
        "id": "2kgj-HtrY7o0"
      },
      "execution_count": 9,
      "outputs": []
    },
    {
      "cell_type": "code",
      "source": [
        "X_train, Y_train, X_test, Y_test = X[:80], Y[:80], X[80:], Y[80:]"
      ],
      "metadata": {
        "id": "d806Fwpsbgq7"
      },
      "execution_count": 11,
      "outputs": []
    },
    {
      "cell_type": "code",
      "source": [
        "class lin_model(nn.Module):\n",
        "  def __init__(self):\n",
        "     super().__init__()\n",
        "     self.w = nn.Parameter(torch.randn(1, dtype = torch.float), requires_grad = True)\n",
        "     self.b = nn.Parameter(torch.randn(1, dtype = torch.float), requires_grad = True)\n",
        "\n",
        "  def forward(self, X: torch.Tensor):\n",
        "      return self.w*X + self.b\n"
      ],
      "metadata": {
        "id": "oqqidJqIlsG-"
      },
      "execution_count": 56,
      "outputs": []
    },
    {
      "cell_type": "code",
      "source": [],
      "metadata": {
        "id": "7PBkDmcmpAyb"
      },
      "execution_count": null,
      "outputs": []
    },
    {
      "cell_type": "code",
      "source": [
        "torch.manual_seed(42)\n",
        "mod0 = lin_model()"
      ],
      "metadata": {
        "id": "zfiwYMsXlsNP"
      },
      "execution_count": 61,
      "outputs": []
    },
    {
      "cell_type": "code",
      "source": [
        "mod0.state_dict()"
      ],
      "metadata": {
        "colab": {
          "base_uri": "https://localhost:8080/"
        },
        "id": "KunBtC_MoQuD",
        "outputId": "879b7144-94da-4ca0-a644-7d361d83b63b"
      },
      "execution_count": 64,
      "outputs": [
        {
          "output_type": "execute_result",
          "data": {
            "text/plain": [
              "OrderedDict([('w', tensor([0.3367])), ('b', tensor([0.1288]))])"
            ]
          },
          "metadata": {},
          "execution_count": 64
        }
      ]
    },
    {
      "cell_type": "code",
      "source": [
        "with torch.inference_mode(): \n",
        "  print(mod0(X_test))\n",
        "  y_preds = mod0(X_test)"
      ],
      "metadata": {
        "colab": {
          "base_uri": "https://localhost:8080/"
        },
        "id": "MpWXFscZmy60",
        "outputId": "e2dca22a-c536-4279-f489-b4d955574289"
      },
      "execution_count": 89,
      "outputs": [
        {
          "output_type": "stream",
          "name": "stdout",
          "text": [
            "tensor([12.3721, 12.5251, 12.6782, 12.8312, 12.9843, 13.1373, 13.2903, 13.4434,\n",
            "        13.5964, 13.7495, 13.9025, 14.0555, 14.2086, 14.3616, 14.5147, 14.6677,\n",
            "        14.8208, 14.9738, 15.1268, 15.2799])\n"
          ]
        }
      ]
    },
    {
      "cell_type": "code",
      "source": [],
      "metadata": {
        "colab": {
          "base_uri": "https://localhost:8080/"
        },
        "id": "OiKN8FhDvBH7",
        "outputId": "707d356e-2eb7-4637-9eea-35347a2b7121"
      },
      "execution_count": 97,
      "outputs": [
        {
          "output_type": "execute_result",
          "data": {
            "text/plain": [
              "<generator object Module.parameters at 0x7f9656d386d0>"
            ]
          },
          "metadata": {},
          "execution_count": 97
        }
      ]
    },
    {
      "cell_type": "code",
      "source": [
        "def plot_predictions(train_data=X_train, \n",
        "                     train_labels=Y_train, \n",
        "                     test_data=X_test, \n",
        "                     test_labels=Y_test, \n",
        "                     predictions=None):\n",
        "  \"\"\"\n",
        "  Plots training data, test data and compares predictions.\n",
        "  \"\"\"\n",
        "  plt.figure(figsize=(10, 7))\n",
        "\n",
        "  # Plot training data in blue\n",
        "  plt.scatter(train_data, train_labels, c=\"b\", s=4, label=\"Training data\")\n",
        "  \n",
        "  # Plot test data in green\n",
        "  plt.scatter(test_data, test_labels, color=\"g\", marker = '.', s=6, label=\"Testing data\")\n",
        "\n",
        "  if predictions is not None:\n",
        "    # Plot the predictions in red (predictions were made on the test data)\n",
        "    plt.scatter(test_data, predictions, c=\"r\", s=4, label=\"Predictions\")\n",
        "\n",
        "  # Show the legend\n",
        "  plt.legend(prop={\"size\": 14})"
      ],
      "metadata": {
        "id": "KwBwp4Ptnhkd"
      },
      "execution_count": 90,
      "outputs": []
    },
    {
      "cell_type": "code",
      "source": [
        "plot_predictions(predictions = y_preds)"
      ],
      "metadata": {
        "colab": {
          "base_uri": "https://localhost:8080/",
          "height": 599
        },
        "id": "Ju9ARnsWpDFk",
        "outputId": "91b79e8c-67c8-42dc-e501-ed41d5e252cb"
      },
      "execution_count": 91,
      "outputs": [
        {
          "output_type": "display_data",
          "data": {
            "text/plain": [
              "<Figure size 1000x700 with 1 Axes>"
            ],
            "image/png": "[encoded data removed]"
          },
          "metadata": {}
        }
      ]
    },
    {
      "cell_type": "code",
      "source": [
        "# train"
      ],
      "metadata": {
        "id": "MppUWLwJry0B"
      },
      "execution_count": 92,
      "outputs": []
    },
    {
      "cell_type": "code",
      "source": [
        "loss = nn.L1Loss()\n",
        "lr = 0.01\n",
        "optm = torch.optim.SGD(params = mod0.parameters(), lr = lr)\n",
        "\n",
        "num_epochs = 150\n",
        "train_loss_values = []\n",
        "test_loss_values = []\n",
        "epoch_count = []\n",
        "\n",
        "\n",
        "for epoch in range(num_epochs):\n",
        "    mod0.train()\n",
        "  # forward\n",
        "    y_pred = mod0(X_train)\n",
        "  # loss\n",
        "    loss_exp = loss(y_pred, Y_train)\n",
        "  # optimizer zero grad\n",
        "    optm.zero_grad()\n",
        "  # backward\n",
        "    loss_exp.backward()\n",
        "  #update\n",
        "    optm.step()"
      ],
      "metadata": {
        "id": "NwS_ao6HuV2P"
      },
      "execution_count": 102,
      "outputs": []
    },
    {
      "cell_type": "code",
      "source": [],
      "metadata": {
        "id": "5gg_MPY8zVqt"
      },
      "execution_count": null,
      "outputs": []
    },
    {
      "cell_type": "code",
      "source": [],
      "metadata": {
        "colab": {
          "base_uri": "https://localhost:8080/"
        },
        "id": "CcE8hbsZzYGb",
        "outputId": "20ecbe6a-028e-4e06-d398-b76ec8c38156"
      },
      "execution_count": 105,
      "outputs": [
        {
          "output_type": "execute_result",
          "data": {
            "text/plain": [
              "lin_model()"
            ]
          },
          "metadata": {},
          "execution_count": 105
        }
      ]
    },
    {
      "cell_type": "code",
      "source": [
        " # train "
      ],
      "metadata": {
        "id": "GTz-bGjtzYDf"
      },
      "execution_count": 104,
      "outputs": []
    },
    {
      "cell_type": "code",
      "source": [
        "opt = torch.optim.SGD(params = mod0.parameters(),lr = 0.1)\n",
        "loss_exp = nn.L1Loss()"
      ],
      "metadata": {
        "id": "t2lzjQ6kzYAk"
      },
      "execution_count": 107,
      "outputs": []
    },
    {
      "cell_type": "code",
      "source": [
        "n_epochs = 150\n",
        "\n",
        "\n",
        "\n",
        "for u in range(n_epochs):\n",
        "    mod0.train()\n",
        "\n",
        "    y_pred = mod0(X_train)  \n",
        "    loss = loss_exp(y_pred, Y_train)\n",
        "    \n",
        "    opt.zero_grad()\n",
        "    loss.backward()\n",
        "    opt.step()\n",
        "   \n",
        "\n"
      ],
      "metadata": {
        "id": "WLOpuxXszX9x"
      },
      "execution_count": null,
      "outputs": []
    },
    {
      "cell_type": "code",
      "source": [],
      "metadata": {
        "id": "iOkr_6nVzX61"
      },
      "execution_count": null,
      "outputs": []
    },
    {
      "cell_type": "code",
      "source": [],
      "metadata": {
        "id": "CbGkMWPUzX3V"
      },
      "execution_count": null,
      "outputs": []
    },
    {
      "cell_type": "code",
      "source": [
        "optimizer = torch.optim.SGD(mod0.parameters(),  lr = 0.01)\n",
        "loss_f = torch.nn.L1Loss()   "
      ],
      "metadata": {
        "id": "Eyq1v7BIzX0Q"
      },
      "execution_count": 115,
      "outputs": []
    },
    {
      "cell_type": "code",
      "source": [
        "n_epochs = 150\n",
        "for epoch in range(n_epochs):\n",
        "\n",
        "  mod0.train()\n",
        "\n",
        "  y_pred = mod0(X_train)\n",
        "  loss = loss_f(y_pred, Y_train)\n",
        "  optimizer.zero_grad()\n",
        "  loss.backward()\n",
        "  optimizer.step()\n",
        "\n",
        "\n",
        "  mod0.eval()\n",
        "\n",
        "  with torch.inference_mode():\n",
        "    test_pred = mod0(X_test)\n",
        "\n",
        "    # 2. Caculate loss on test data\n",
        "    test_loss = loss_f(test_pred, Y_test.type(torch.float)) # predictions come in torch.float datatype, so comparisons need to be done with tensors of the same type\n",
        "\n",
        "    # Print out what's happening\n",
        "    if epoch % 10 == 0:\n",
        "          epoch_count.append(epoch)\n",
        "          train_loss_values.append(loss.detach().numpy())\n",
        "          test_loss_values.append(test_loss.detach().numpy())\n",
        "          print(f\"Epoch: {epoch} | MAE Train Loss: {loss} | MAE Test Loss: {test_loss} \")\n",
        "\n"
      ],
      "metadata": {
        "colab": {
          "base_uri": "https://localhost:8080/"
        },
        "id": "p2AGeqfBzVnI",
        "outputId": "c2e6af9f-972b-4788-d62e-390304c7ad74"
      },
      "execution_count": 117,
      "outputs": [
        {
          "output_type": "stream",
          "name": "stdout",
          "text": [
            "Epoch: 0 | MAE Train Loss: 2.462331771850586 | MAE Test Loss: 1.005468726158142 \n",
            "Epoch: 10 | MAE Train Loss: 2.750957727432251 | MAE Test Loss: 0.38086241483688354 \n",
            "Epoch: 20 | MAE Train Loss: 2.9695301055908203 | MAE Test Loss: 0.11324997246265411 \n",
            "Epoch: 30 | MAE Train Loss: 2.4863271713256836 | MAE Test Loss: 0.973376452922821 \n",
            "Epoch: 40 | MAE Train Loss: 2.747034788131714 | MAE Test Loss: 0.41400909423828125 \n",
            "Epoch: 50 | MAE Train Loss: 2.9656128883361816 | MAE Test Loss: 0.08008728176355362 \n",
            "Epoch: 60 | MAE Train Loss: 2.2501485347747803 | MAE Test Loss: 1.5397148132324219 \n",
            "Epoch: 70 | MAE Train Loss: 2.538944959640503 | MAE Test Loss: 0.9151069521903992 \n",
            "Epoch: 80 | MAE Train Loss: 2.7575249671936035 | MAE Test Loss: 0.4210105836391449 \n",
            "Epoch: 90 | MAE Train Loss: 2.964139461517334 | MAE Test Loss: 0.03228759765625 \n",
            "Epoch: 100 | MAE Train Loss: 2.6861448287963867 | MAE Test Loss: 0.5992225408554077 \n",
            "Epoch: 110 | MAE Train Loss: 2.8805060386657715 | MAE Test Loss: 0.1890358030796051 \n",
            "Epoch: 120 | MAE Train Loss: 2.412449359893799 | MAE Test Loss: 1.2409309148788452 \n",
            "Epoch: 130 | MAE Train Loss: 2.6310253143310547 | MAE Test Loss: 0.7468208074569702 \n",
            "Epoch: 140 | MAE Train Loss: 2.8133544921875 | MAE Test Loss: 0.3646133542060852 \n"
          ]
        }
      ]
    },
    {
      "cell_type": "code",
      "source": [],
      "metadata": {
        "id": "DlVGuMigzVj9"
      },
      "execution_count": null,
      "outputs": []
    },
    {
      "cell_type": "code",
      "source": [],
      "metadata": {
        "id": "9HJthgUfzVgl"
      },
      "execution_count": null,
      "outputs": []
    },
    {
      "cell_type": "code",
      "source": [],
      "metadata": {
        "id": "ESZ8BmlvzVc8"
      },
      "execution_count": null,
      "outputs": []
    },
    {
      "cell_type": "code",
      "source": [],
      "metadata": {
        "id": "f8UgaRrdzVZ3"
      },
      "execution_count": null,
      "outputs": []
    },
    {
      "cell_type": "code",
      "source": [],
      "metadata": {
        "id": "ulxqHujozVWo"
      },
      "execution_count": null,
      "outputs": []
    },
    {
      "cell_type": "code",
      "source": [],
      "metadata": {
        "id": "6aloHAp_zVRS"
      },
      "execution_count": null,
      "outputs": []
    },
    {
      "cell_type": "code",
      "source": [],
      "metadata": {
        "id": "gpqFAs-LzVN5"
      },
      "execution_count": null,
      "outputs": []
    },
    {
      "cell_type": "code",
      "source": [
        "# test"
      ],
      "metadata": {
        "id": "FI9fLVvHxmm1"
      },
      "execution_count": 103,
      "outputs": []
    },
    {
      "cell_type": "code",
      "source": [
        " torch.manual_seed(42)\n",
        "\n",
        "# Set the number of epochs (how many times the model will pass over the training data)\n",
        "epochs = 100\n",
        "\n",
        "# Create empty loss lists to track values\n",
        "train_loss_values = []\n",
        "test_loss_values = []\n",
        "epoch_count = []\n",
        "\n",
        "for epoch in range(epochs):\n",
        "    ### Training\n",
        "\n",
        "    # Put model in training mode (this is the default state of a model)\n",
        "    model_0.train()\n",
        "\n",
        "    # 1. Forward pass on train data using the forward() method inside \n",
        "    y_pred = model_0(X_train)\n",
        "    # print(y_pred)\n",
        "\n",
        "    # 2. Calculate the loss (how different are our models predictions to the ground truth)\n",
        "    loss = loss_fn(y_pred, y_train)\n",
        "\n",
        "    # 3. Zero grad of the optimizer\n",
        "    optimizer.zero_grad()\n",
        "\n",
        "    # 4. Loss backwards\n",
        "    loss.backward()\n",
        "\n",
        "    # 5. Progress the optimizer\n",
        "    optimizer.step()\n",
        "\n",
        "    ### Testing\n",
        "\n",
        "    # Put the model in evaluation mode\n",
        "    model_0.eval()\n",
        "\n",
        "    with torch.inference_mode():\n",
        "      # 1. Forward pass on test data\n",
        "      test_pred = model_0(X_test)\n",
        "\n",
        "      # 2. Caculate loss on test data\n",
        "      test_loss = loss_fn(test_pred, y_test.type(torch.float)) # predictions come in torch.float datatype, so comparisons need to be done with tensors of the same type\n",
        "\n",
        "      # Print out what's happening\n",
        "      if epoch % 10 == 0:\n",
        "            epoch_count.append(epoch)\n",
        "            train_loss_values.append(loss.detach().numpy())\n",
        "            test_loss_values.append(test_loss.detach().numpy())\n",
        "            print(f\"Epoch: {epoch} | MAE Train Loss: {loss} | MAE Test Loss: {test_loss} \")"
      ],
      "metadata": {
        "id": "tcUqAsbjynH7"
      },
      "execution_count": null,
      "outputs": []
    }
  ]
}