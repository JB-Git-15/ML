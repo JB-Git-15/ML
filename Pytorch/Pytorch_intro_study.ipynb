{
  "nbformat": 4,
  "nbformat_minor": 0,
  "metadata": {
    "colab": {
      "provenance": []
    },
    "kernelspec": {
      "name": "python3",
      "display_name": "Python 3"
    },
    "language_info": {
      "name": "python"
    }
  },
  "cells": [
    {
      "cell_type": "code",
      "execution_count": 87,
      "metadata": {
        "id": "Rtnhukq0LjZl"
      },
      "outputs": [],
      "source": [
        "import numpy as np\n"
      ]
    },
    {
      "cell_type": "markdown",
      "source": [
        "Version in numpy"
      ],
      "metadata": {
        "id": "geYgL9IWWe6x"
      }
    },
    {
      "cell_type": "code",
      "source": [
        "X = np.array([1,2,3,4,5])\n",
        "Y = np.array([3,6,9,12,15])"
      ],
      "metadata": {
        "id": "eJkJIzsBLyFh"
      },
      "execution_count": 19,
      "outputs": []
    },
    {
      "cell_type": "code",
      "source": [
        "def forward(X,Y, w):\n",
        "    return np.mean((X*w -Y)**2)"
      ],
      "metadata": {
        "id": "3rWLruPyMP8l"
      },
      "execution_count": 21,
      "outputs": []
    },
    {
      "cell_type": "code",
      "source": [
        "def backward(X,Y,w):\n",
        "    return np.mean(2*(w*X-Y)*X)"
      ],
      "metadata": {
        "id": "ve0CIfkyRs0d"
      },
      "execution_count": 22,
      "outputs": []
    },
    {
      "cell_type": "code",
      "source": [
        "n_epochs = 10\n",
        "learning_rate = 0.05"
      ],
      "metadata": {
        "id": "a4JvP64tSJQl"
      },
      "execution_count": 50,
      "outputs": []
    },
    {
      "cell_type": "code",
      "source": [
        "w= 0.1\n",
        "for n_it in range(n_epochs):\n",
        "    L = forward(X,Y,w)\n",
        "    print(f\"cost : {L},      w : {w}\")\n",
        "    dw = backward(X,Y,w)\n",
        "    w -= learning_rate*dw \n",
        "    "
      ],
      "metadata": {
        "colab": {
          "base_uri": "https://localhost:8080/"
        },
        "id": "BBaQGYMvSMd0",
        "outputId": "960b9d13-b1c8-4cd9-c3af-9fa8a5b20c55"
      },
      "execution_count": 51,
      "outputs": [
        {
          "output_type": "stream",
          "name": "stdout",
          "text": [
            "cost : 92.50999999999999,      w : 0.1\n",
            "cost : 0.9251000000000001,      w : 3.29\n",
            "cost : 0.009250999999999945,      w : 2.971\n",
            "cost : 9.250999999999483e-05,      w : 3.0029\n",
            "cost : 9.251000000006848e-07,      w : 2.99971\n",
            "cost : 9.251000000025909e-09,      w : 3.000029\n",
            "cost : 9.251000000886199e-11,      w : 2.9999971\n",
            "cost : 9.250999998825623e-13,      w : 3.00000029\n",
            "cost : 9.251000124520635e-15,      w : 2.999999971\n",
            "cost : 9.251001530862408e-17,      w : 3.0000000029000002\n"
          ]
        }
      ]
    },
    {
      "cell_type": "markdown",
      "source": [
        "Version in pytorch"
      ],
      "metadata": {
        "id": "0DfimjjXWirR"
      }
    },
    {
      "cell_type": "code",
      "source": [
        "import torch\n",
        "import torch.nn as nn"
      ],
      "metadata": {
        "id": "UUlugw0ukjgk"
      },
      "execution_count": 120,
      "outputs": []
    },
    {
      "cell_type": "code",
      "source": [
        "def forward_pt(X,w):\n",
        "    return X*w"
      ],
      "metadata": {
        "id": "uauF3wyFmeLf"
      },
      "execution_count": 121,
      "outputs": []
    },
    {
      "cell_type": "code",
      "source": [
        "X = torch.tensor([[1],[2],[3],[4],[5]], dtype = torch.float32)\n",
        "Y = torch.tensor([[3],[6],[9],[12],[15]], dtype = torch.float32)\n",
        "input_f = 1\n",
        "output_f = 1"
      ],
      "metadata": {
        "id": "YOGToHj_S-UY"
      },
      "execution_count": 122,
      "outputs": []
    },
    {
      "cell_type": "code",
      "source": [
        "model = nn.Linear(input_f, output_f, bias=False)"
      ],
      "metadata": {
        "id": "v4u3ykZCofzi"
      },
      "execution_count": 114,
      "outputs": []
    },
    {
      "cell_type": "code",
      "source": [
        "n_epochs = 10\n",
        "learning_rate = 0.05"
      ],
      "metadata": {
        "id": "uhYt4tqBXHtQ"
      },
      "execution_count": 115,
      "outputs": []
    },
    {
      "cell_type": "code",
      "source": [
        "loss = nn.MSELoss(reduction='mean')\n",
        "#w = torch.tensor(0.1, dtype = torch.float32, requires_grad=True)\n",
        "optimizer = torch.optim.SGD(model.parameters(), lr = learning_rate)"
      ],
      "metadata": {
        "id": "GnmKYdfhYSul"
      },
      "execution_count": 116,
      "outputs": []
    },
    {
      "cell_type": "code",
      "source": [
        "for n_it in range(n_epochs):\n",
        "    y_pred = model(X)\n",
        "    L = loss(y_pred, Y) # forward\n",
        "    L.backward()     # backward\n",
        "    optimizer.step()\n",
        "    optimizer.zero_grad()\n",
        "    [w] = model.parameters()  \n",
        "    print(f\"cost : {L},      w : {w[0][0].item()}\")"
      ],
      "metadata": {
        "colab": {
          "base_uri": "https://localhost:8080/"
        },
        "id": "IHdtLPtQXJm3",
        "outputId": "6ea3ae15-2b70-4ac5-faad-17a9b8e90543"
      },
      "execution_count": 119,
      "outputs": [
        {
          "output_type": "stream",
          "name": "stdout",
          "text": [
            "cost : 0.0,      w : 3.0\n",
            "cost : 0.0,      w : 3.0\n",
            "cost : 0.0,      w : 3.0\n",
            "cost : 0.0,      w : 3.0\n",
            "cost : 0.0,      w : 3.0\n",
            "cost : 0.0,      w : 3.0\n",
            "cost : 0.0,      w : 3.0\n",
            "cost : 0.0,      w : 3.0\n",
            "cost : 0.0,      w : 3.0\n",
            "cost : 0.0,      w : 3.0\n"
          ]
        }
      ]
    },
    {
      "cell_type": "markdown",
      "source": [
        "Redo all again"
      ],
      "metadata": {
        "id": "4DHsfgI7rYw-"
      }
    },
    {
      "cell_type": "code",
      "source": [
        "import torch\n",
        "import torch.nn as nn\n",
        "import numpy as np\n",
        "import matplotlib.pyplot as plt"
      ],
      "metadata": {
        "id": "faneSUbeYwpc"
      },
      "execution_count": 23,
      "outputs": []
    },
    {
      "cell_type": "code",
      "source": [
        "X = torch.tensor([[1],[2],[4],[8]], dtype=torch.float32)\n",
        "Y = torch.tensor([[10.3],[19.5],[40.1],[79.6]], dtype=torch.float32)\n",
        "n_input_feat  = 1\n",
        "n_output_feat  = 1"
      ],
      "metadata": {
        "id": "h2I5Uq9trb6w"
      },
      "execution_count": 17,
      "outputs": []
    },
    {
      "cell_type": "code",
      "source": [
        "model = nn.Linear(n_input_feat, n_output_feat, bias = False)"
      ],
      "metadata": {
        "id": "B_i37EiNr_xv"
      },
      "execution_count": 18,
      "outputs": []
    },
    {
      "cell_type": "code",
      "source": [
        "L = nn.MSELoss(reduction = 'mean')"
      ],
      "metadata": {
        "id": "fecqJPcIsSUS"
      },
      "execution_count": 19,
      "outputs": []
    },
    {
      "cell_type": "code",
      "source": [
        "learning_rate = 0.01\n",
        "optim = torch.optim.SGD(model.parameters(),lr = learning_rate)"
      ],
      "metadata": {
        "id": "vU5xuD8Qrufv"
      },
      "execution_count": 20,
      "outputs": []
    },
    {
      "cell_type": "code",
      "source": [
        "n_epochs = 20"
      ],
      "metadata": {
        "id": "iBYf6oxTs70t"
      },
      "execution_count": 21,
      "outputs": []
    },
    {
      "cell_type": "code",
      "source": [
        "for n_it in range(n_epochs):\n",
        "    y_pred = model(X)\n",
        "    l = L(y_pred, Y)\n",
        "    l.backward()\n",
        "    optim.step()\n",
        "    optim.zero_grad()\n",
        "    [w] = model.parameters()  \n",
        "    print(f\"cost : {l},      w : {w[0][0].item()}\")"
      ],
      "metadata": {
        "colab": {
          "base_uri": "https://localhost:8080/"
        },
        "id": "eGHUx45UtILp",
        "outputId": "38767718-3c15-422c-94af-4efb68010356"
      },
      "execution_count": 22,
      "outputs": [
        {
          "output_type": "stream",
          "name": "stdout",
          "text": [
            "cost : 1726.6856689453125,      w : 4.775795936584473\n",
            "cost : 570.9466552734375,      w : 6.978582382202148\n",
            "cost : 188.8304901123047,      w : 8.245184898376465\n",
            "cost : 62.4932975769043,      w : 8.973481178283691\n",
            "cost : 20.72307777404785,      w : 9.392251968383789\n",
            "cost : 6.912786483764648,      w : 9.633045196533203\n",
            "cost : 2.3467624187469482,      w : 9.771500587463379\n",
            "cost : 0.8371288180351257,      w : 9.851112365722656\n",
            "cost : 0.33800551295280457,      w : 9.896889686584473\n",
            "cost : 0.1729806661605835,      w : 9.923211097717285\n",
            "cost : 0.11842036247253418,      w : 9.938345909118652\n",
            "cost : 0.10038111358880997,      w : 9.947049140930176\n",
            "cost : 0.09441638737916946,      w : 9.95205307006836\n",
            "cost : 0.09244449436664581,      w : 9.954930305480957\n",
            "cost : 0.091792531311512,      w : 9.956584930419922\n",
            "cost : 0.0915769413113594,      w : 9.957536697387695\n",
            "cost : 0.09150565415620804,      w : 9.958083152770996\n",
            "cost : 0.09148211777210236,      w : 9.95839786529541\n",
            "cost : 0.09147430956363678,      w : 9.958579063415527\n",
            "cost : 0.09147173911333084,      w : 9.958683013916016\n"
          ]
        }
      ]
    },
    {
      "cell_type": "code",
      "source": [
        "class LinearRegression(nn.Module):\n",
        "    def __init__(self, input_dim, output_dim):\n",
        "        super(LinearRegression, self).__init__()\n",
        "        # define layers\n",
        "        self.lin = nn.Linear(input_dim, output_dim)\n",
        "\n",
        "    def forward(self,x):\n",
        "        return self.lin(x)"
      ],
      "metadata": {
        "id": "US6TUGqQuSPm"
      },
      "execution_count": 10,
      "outputs": []
    },
    {
      "cell_type": "code",
      "source": [
        "predicted = model(X).detach().numpy()"
      ],
      "metadata": {
        "id": "kMo1yGpwQ-94"
      },
      "execution_count": 25,
      "outputs": []
    },
    {
      "cell_type": "code",
      "source": [
        "predicted"
      ],
      "metadata": {
        "colab": {
          "base_uri": "https://localhost:8080/"
        },
        "id": "uVXxUb3iW8kf",
        "outputId": "e803500b-e4e0-4ee6-bd74-0d4c9b638745"
      },
      "execution_count": 27,
      "outputs": [
        {
          "output_type": "execute_result",
          "data": {
            "text/plain": [
              "array([[ 9.958683],\n",
              "       [19.917366],\n",
              "       [39.834732],\n",
              "       [79.669464]], dtype=float32)"
            ]
          },
          "metadata": {},
          "execution_count": 27
        }
      ]
    },
    {
      "cell_type": "code",
      "source": [
        "fig, ax = plt.subplots()\n",
        "ax.plot(X,predicted)\n",
        "ax.plot(X, Y, '.')"
      ],
      "metadata": {
        "colab": {
          "base_uri": "https://localhost:8080/",
          "height": 282
        },
        "id": "OWKl03CgWLxG",
        "outputId": "69b9a068-51d6-443c-c67a-65c235d5cfc0"
      },
      "execution_count": 30,
      "outputs": [
        {
          "output_type": "execute_result",
          "data": {
            "text/plain": [
              "[<matplotlib.lines.Line2D at 0x7f3814c00a60>]"
            ]
          },
          "metadata": {},
          "execution_count": 30
        },
        {
          "output_type": "display_data",
          "data": {
            "text/plain": [
              "<Figure size 432x288 with 1 Axes>"
            ],
            "image/png": "[encoded data removed]"
          },
          "metadata": {
            "needs_background": "light"
          }
        }
      ]
    },
    {
      "cell_type": "code",
      "source": [],
      "metadata": {
        "id": "b8O70F_1W0Vi"
      },
      "execution_count": null,
      "outputs": []
    }
  ]
}