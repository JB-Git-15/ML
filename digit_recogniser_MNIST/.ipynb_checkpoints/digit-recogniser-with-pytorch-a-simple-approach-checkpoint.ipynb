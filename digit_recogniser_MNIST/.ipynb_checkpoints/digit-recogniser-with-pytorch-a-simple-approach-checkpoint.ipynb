{
 "cells": [
  {
   "cell_type": "code",
   "execution_count": null,
   "metadata": {
    "_cell_guid": "b1076dfc-b9ad-4769-8c92-a6c4dae69d19",
    "_uuid": "8f2839f25d086af736a60e9eeb907d3b93b6e0e5"
   },
   "outputs": [],
   "source": [
    "import numpy as np # linear algebra\n",
    "import pandas as pd # data processing, CSV file I/O (e.g. pd.read_csv)\n",
    "import torch\n",
    "from torch import nn, optim\n",
    "import torchvision\n",
    "from torchvision import datasets, transforms\n",
    "from torchvision.utils import make_grid\n",
    "from collections import OrderedDict\n",
    "import csv\n",
    "import matplotlib.pyplot as plt"
   ]
  },
  {
   "cell_type": "markdown",
   "metadata": {
    "_cell_guid": "79c7e3d0-c299-4dcb-8224-4455121ee9b0",
    "_uuid": "d629ff2d2480ee46fbb7e2d37f6b5fab8052498a"
   },
   "source": [
    "### Loading the data\n",
    "Load the data by reading from the csv file."
   ]
  },
  {
   "cell_type": "code",
   "execution_count": null,
   "metadata": {
    "_uuid": "04a17ec8dfc67bb2dc5eb9a34566e3a1a64d1ed9"
   },
   "outputs": [],
   "source": [
    "#Loading data\n",
    "df_train = pd.read_csv('../input/train.csv')\n",
    "df_test = pd.read_csv('../input/test.csv')"
   ]
  },
  {
   "cell_type": "markdown",
   "metadata": {
    "_uuid": "8d8c6583bcc2a2a38653f2cd63904d5fe778d368"
   },
   "source": [
    "### Getting the data ready for training\n",
    "Split the training data into input data and labels. Then normalize the input data by dividing by 255 and it is ready to be converted to a tensor.\n",
    "Then split the training data into training and validation data and create the dataloaders.\n",
    "And of course load and normalize the test data and convert it to a tensor as well."
   ]
  },
  {
   "cell_type": "code",
   "execution_count": null,
   "metadata": {
    "_uuid": "3e8abe6e5888ab39307a75e6c56f73cb5b2c56bd"
   },
   "outputs": [],
   "source": [
    "train_data = torch.tensor(df_train.drop(['label'], axis=1).values.astype('float32')) / 255\n",
    "labels = torch.tensor(df_train['label'].values.astype(np.float32)).long()\n",
    "test_data = torch.tensor(df_test.values.astype('float32')) / 255\n",
    "\n",
    "#Getting dataloaders ready for training\n",
    "train_tensor_dataset = torch.utils.data.TensorDataset(train_data, labels)\n",
    "\n",
    "#Splitting the dataset into train and validate datasets\n",
    "train_size = int(0.8 * len(train_tensor_dataset))\n",
    "validate_size = len(train_tensor_dataset) - train_size\n",
    "train_dataset, validate_dataset = torch.utils.data.random_split(train_tensor_dataset, [train_size, validate_size])\n",
    "\n",
    "dataloaders = OrderedDict([\n",
    "    ('train', torch.utils.data.DataLoader(train_dataset, batch_size=64, shuffle=True)),\n",
    "    ('validate', torch.utils.data.DataLoader(validate_dataset, batch_size=64, shuffle=True))\n",
    "])"
   ]
  },
  {
   "cell_type": "markdown",
   "metadata": {
    "_uuid": "0fcd7f7f41dba6173d1b8d1a2175e388858dedb2"
   },
   "source": [
    "## An image representation of a batch of the data\n",
    "Plotting 8x8 grid of images using matplotlib"
   ]
  },
  {
   "cell_type": "code",
   "execution_count": null,
   "metadata": {
    "_uuid": "a4cbf46b335a4cab95fef1cc2ee620d0cd21b172"
   },
   "outputs": [],
   "source": [
    "random_sel = np.random.randint(len(df_train), size=64)\n",
    "grid = make_grid(torch.Tensor((df_train.iloc[random_sel, 1:].values/255.).reshape((-1, 28, 28))).unsqueeze(1), nrow=8)\n",
    "plt.rcParams['figure.figsize'] = (64, 8)\n",
    "plt.imshow(grid.numpy().transpose((1,2,0)))\n",
    "plt.axis('off');"
   ]
  },
  {
   "cell_type": "markdown",
   "metadata": {
    "_uuid": "568f8466b09dd78ff100d6e6fbf27e3862bbdf81"
   },
   "source": [
    "### Creating the model\n",
    "Define a function that creates the model with input size, hidden layers, output size and dropout probability as parameters.\n",
    "The model has 2 hidden layers with ReLU as an activation function for the hidden layers and LogSoftmax for the output."
   ]
  },
  {
   "cell_type": "code",
   "execution_count": null,
   "metadata": {
    "_uuid": "6b75ed2d7ea4ef1a3ba461e99a1c1c7f3579e44d"
   },
   "outputs": [],
   "source": [
    "def create_model(input_size, hidden_layer=[4096, 2048], output_size=10, drop_p=0.5):\n",
    "    model = nn.Sequential(OrderedDict([('layer1', nn.Linear(input_size, hidden_layer[0])),\n",
    "                                            ('ReLU1', nn.ReLU()),\n",
    "                                            ('layer2', nn.Linear(hidden_layer[0], hidden_layer[1])),\n",
    "                                            ('ReLU2', nn.ReLU()),\n",
    "                                            ('layer3', nn.Linear(hidden_layer[1], output_size)),\n",
    "                                            ('dropout', nn.Dropout(p=drop_p)),\n",
    "                                            ('output', nn.LogSoftmax(dim=-1))]))\n",
    "    return model\n",
    "model = create_model(train_data.shape[1], [200,100])"
   ]
  },
  {
   "cell_type": "markdown",
   "metadata": {
    "_uuid": "7445708277f5de1f2ca4810edd286351619064aa"
   },
   "source": [
    "### Model validation\n",
    "Define a function to validate the model with the validation chunk of the training data which was split earlier.\n",
    "The function takes the model, dataloader, device(cpu, cuda) and the criterion as parameters.\n",
    "The function returns the loss and the accuracy of the model with the validation data."
   ]
  },
  {
   "cell_type": "code",
   "execution_count": null,
   "metadata": {
    "_uuid": "7f6c2655d6ad98bc758e212b88404cee5cadfed7"
   },
   "outputs": [],
   "source": [
    "def validate_model(model, dataloader, device, criterion):\n",
    "    correct = 0\n",
    "    total = 0\n",
    "    test_loss = 0\n",
    "    model.to(device)\n",
    "    model.float()\n",
    "    for data in dataloader:\n",
    "        inputs, labels = data\n",
    "        inputs, labels = inputs.to(device), labels.to(device)\n",
    "        outputs = model.forward(inputs)\n",
    "        test_loss += criterion(outputs, labels).item() / len(dataloader)\n",
    "        ps = torch.exp(outputs)\n",
    "        _, predicted = torch.max(ps.data, 1)\n",
    "        total += labels.size(0)\n",
    "        correct += (predicted == labels).sum().item()\n",
    "        accuracy = 100 * correct / total\n",
    "    return test_loss, accuracy"
   ]
  },
  {
   "cell_type": "markdown",
   "metadata": {
    "_uuid": "ed47d2cf83b4eaea20c28fbea15e601820aedb9e"
   },
   "source": [
    "### Training the model\n",
    "Define a function to train the model with the training data.\n",
    "The function takes the model, dataloader, learning rate, device(cpu, cuda) and epochs(number of iterations) as parameters.\n",
    "The function prints the loss and accuracy of the model with the training data and uses the validate_model function to print the loss and accuracy of the validation data with each iteration."
   ]
  },
  {
   "cell_type": "code",
   "execution_count": null,
   "metadata": {
    "_uuid": "9054d549965a1ac166d8388a1e54e8802a0fffd0"
   },
   "outputs": [],
   "source": [
    "def train_network(model, dataloader, learning_rate=0.001, device='cuda', epochs=3):\n",
    "    print_every = 100\n",
    "    steps = 0\n",
    "    model.to(device)\n",
    "    criterion = nn.NLLLoss()\n",
    "    optimizer = optim.Adam(model.parameters(), lr=learning_rate)\n",
    "    for e in range(epochs):\n",
    "        model.train()\n",
    "        running_loss = 0\n",
    "        total = 0\n",
    "        correct = 0\n",
    "        for ii, (inputs, labels) in enumerate(dataloader):\n",
    "            steps += 1\n",
    "            inputs, labels = inputs.to(device), labels.to(device)\n",
    "            optimizer.zero_grad()\n",
    "            output = model.forward(inputs)\n",
    "            loss = criterion(output, labels)\n",
    "            loss.backward()\n",
    "            optimizer.step()\n",
    "            running_loss += loss.item()\n",
    "            # accuracy\n",
    "            _, predicted = torch.max(output.data, 1)\n",
    "            total += labels.size(0)\n",
    "            correct += (predicted == labels).sum().item()\n",
    "\n",
    "            if steps % print_every == 0:\n",
    "                model.eval()\n",
    "                with torch.no_grad():\n",
    "                    test_loss, accuracy = validate_model(model, dataloaders['validate'], device, criterion)\n",
    "\n",
    "                print(\"Epoch: {}/{}.. \".format(e+1, epochs),\n",
    "                      \"Training Loss: {:.3f}.. \".format(running_loss/print_every),\n",
    "                      \"Training Accuracy: %d %%\" % (100 * correct / total),\n",
    "                      \"Test Loss: {:.3f}.. \".format(test_loss),\n",
    "                      \"Test Accuracy: %d %%\" % (accuracy))\n",
    "\n",
    "                running_loss = 0\n",
    "        print('Finished Epoch!')\n",
    "    print('Finished Training!')\n",
    "train_network(model, dataloaders['train'], 0.001, 'cpu')"
   ]
  },
  {
   "cell_type": "markdown",
   "metadata": {
    "_uuid": "4947ad659b152ea440f068be51c6dbf14c887bee"
   },
   "source": [
    "### Saving results as a CSV\n",
    "Run the model with the test data and get the top result and add it to the csv next to the imageId."
   ]
  },
  {
   "cell_type": "code",
   "execution_count": null,
   "metadata": {
    "_uuid": "6cda25a8d4e6115b9114b2acb614265e1c0851a6"
   },
   "outputs": [],
   "source": [
    "results = []\n",
    "for inputs in test_data:\n",
    "    with torch.no_grad():\n",
    "        output = model.forward(torch.tensor(inputs))\n",
    "        ps = torch.exp(output)\n",
    "        results = np.append(results, ps.topk(1)[1].numpy()[0])\n",
    "results = results.astype(int)\n",
    "index = [x+1 for x in df_test.index.tolist()]\n",
    "df = pd.DataFrame({'ImageId': index, 'Label':results})\n",
    "df.to_csv(\"submission.csv\", index = False)"
   ]
  },
  {
   "cell_type": "code",
   "execution_count": null,
   "metadata": {
    "_uuid": "22845cf17a49c070f28c47d7f296c3f407aadcaf"
   },
   "outputs": [],
   "source": []
  }
 ],
 "metadata": {
  "kernelspec": {
   "display_name": "Python 3 (ipykernel)",
   "language": "python",
   "name": "python3"
  },
  "language_info": {
   "codemirror_mode": {
    "name": "ipython",
    "version": 3
   },
   "file_extension": ".py",
   "mimetype": "text/x-python",
   "name": "python",
   "nbconvert_exporter": "python",
   "pygments_lexer": "ipython3",
   "version": "3.9.13"
  }
 },
 "nbformat": 4,
 "nbformat_minor": 4
}
