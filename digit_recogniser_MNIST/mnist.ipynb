{
 "cells": [
  {
   "cell_type": "code",
   "execution_count": null,
   "metadata": {
    "execution": {
     "iopub.execute_input": "2022-11-07T18:54:47.680079Z",
     "iopub.status.busy": "2022-11-07T18:54:47.679492Z",
     "iopub.status.idle": "2022-11-07T18:54:47.693502Z",
     "shell.execute_reply": "2022-11-07T18:54:47.692094Z",
     "shell.execute_reply.started": "2022-11-07T18:54:47.680045Z"
    }
   },
   "outputs": [],
   "source": [
    "import pandas as pd \n",
    "import numpy as np \n",
    "from tqdm.auto import tqdm\n",
    "\n",
    "import torch \n",
    "from torch import nn \n",
    "\n",
    "import torchvision\n",
    "from torchvision import transforms\n",
    "from torch.utils.data import DataLoader\n",
    "from torchvision.transforms import ToTensor\n",
    "import matplotlib.pyplot as plt\n",
    "import seaborn as sns \n",
    "from keras.utils.np_utils import to_categorical\n",
    "from sklearn.model_selection import train_test_split \n",
    "import requests\n",
    "from pathlib import Path\n",
    "\n",
    "\n",
    "\n",
    "# Download helper functions from Learn PyTorch repo\n",
    "if Path(\"helper_functions.py\").is_file():\n",
    "  print(\"helper_functions.py already exists, skipping download...\")\n",
    "else:\n",
    "  print(\"Downloading helper_functions.py\")\n",
    "  request = requests.get(\"https://raw.githubusercontent.com/mrdbourke/pytorch-deep-learning/main/helper_functions.py\")\n",
    "  with open(\"helper_functions.py\", \"wb\") as f:\n",
    "    f.write(request.content)\n",
    "from helper_functions import accuracy_fn "
   ]
  },
  {
   "cell_type": "code",
   "execution_count": null,
   "metadata": {
    "execution": {
     "iopub.execute_input": "2022-11-07T18:54:47.695992Z",
     "iopub.status.busy": "2022-11-07T18:54:47.695094Z",
     "iopub.status.idle": "2022-11-07T18:54:54.481754Z",
     "shell.execute_reply": "2022-11-07T18:54:54.480313Z",
     "shell.execute_reply.started": "2022-11-07T18:54:47.69595Z"
    }
   },
   "outputs": [],
   "source": [
    "train = pd.read_csv('../input/digit-recognizer/train.csv',dtype = np.float32)\n",
    "test_data = pd.read_csv('../input/digit-recognizer/test.csv',dtype = np.float32)\n",
    "sample_submission = pd.read_csv('../input/digit-recognizer/sample_submission.csv')"
   ]
  },
  {
   "cell_type": "code",
   "execution_count": null,
   "metadata": {
    "execution": {
     "iopub.execute_input": "2022-11-07T18:54:54.486227Z",
     "iopub.status.busy": "2022-11-07T18:54:54.485343Z",
     "iopub.status.idle": "2022-11-07T18:54:54.534311Z",
     "shell.execute_reply": "2022-11-07T18:54:54.532989Z",
     "shell.execute_reply.started": "2022-11-07T18:54:54.486174Z"
    }
   },
   "outputs": [],
   "source": [
    "train.head()"
   ]
  },
  {
   "cell_type": "code",
   "execution_count": null,
   "metadata": {
    "execution": {
     "iopub.execute_input": "2022-11-07T18:54:54.539181Z",
     "iopub.status.busy": "2022-11-07T18:54:54.538545Z",
     "iopub.status.idle": "2022-11-07T18:54:54.730159Z",
     "shell.execute_reply": "2022-11-07T18:54:54.728794Z",
     "shell.execute_reply.started": "2022-11-07T18:54:54.539128Z"
    }
   },
   "outputs": [],
   "source": [
    "labels = train['label']\n",
    "class_names = labels.unique()\n",
    "y = train.label.values\n",
    "X = train.drop(['label'],axis = 1)\n",
    "X = X/255\n",
    "X = X.values.reshape(-1,28,28,1)\n",
    "f = train.loc[:,train.columns !=\"label\"].values"
   ]
  },
  {
   "cell_type": "code",
   "execution_count": null,
   "metadata": {
    "execution": {
     "iopub.execute_input": "2022-11-07T18:54:54.735118Z",
     "iopub.status.busy": "2022-11-07T18:54:54.734728Z",
     "iopub.status.idle": "2022-11-07T18:54:55.141171Z",
     "shell.execute_reply": "2022-11-07T18:54:55.140139Z",
     "shell.execute_reply.started": "2022-11-07T18:54:54.735071Z"
    }
   },
   "outputs": [],
   "source": [
    "X_train, X_test, y_train, y_test = train_test_split(X,y,test_size = 0.2,\n",
    "                                                   random_state = 42)"
   ]
  },
  {
   "cell_type": "code",
   "execution_count": null,
   "metadata": {
    "execution": {
     "iopub.execute_input": "2022-11-07T18:54:55.143777Z",
     "iopub.status.busy": "2022-11-07T18:54:55.142971Z",
     "iopub.status.idle": "2022-11-07T18:54:55.151295Z",
     "shell.execute_reply": "2022-11-07T18:54:55.150092Z",
     "shell.execute_reply.started": "2022-11-07T18:54:55.143732Z"
    }
   },
   "outputs": [],
   "source": [
    "# need to convert to tensor \n",
    "print(type(X_train))\n",
    "print(type(X_test))\n",
    "print(type(y_train))\n",
    "print(type(y_test))"
   ]
  },
  {
   "cell_type": "code",
   "execution_count": null,
   "metadata": {
    "execution": {
     "iopub.execute_input": "2022-11-07T18:54:55.15411Z",
     "iopub.status.busy": "2022-11-07T18:54:55.153458Z",
     "iopub.status.idle": "2022-11-07T18:54:55.1637Z",
     "shell.execute_reply": "2022-11-07T18:54:55.162361Z",
     "shell.execute_reply.started": "2022-11-07T18:54:55.154062Z"
    }
   },
   "outputs": [],
   "source": [
    "X_train = torch.from_numpy(X_train)\n",
    "y_train = torch.from_numpy(y_train).type(torch.LongTensor)\n",
    "X_test = torch.from_numpy(X_test)\n",
    "y_test = torch.from_numpy(y_test).type(torch.LongTensor)"
   ]
  },
  {
   "cell_type": "code",
   "execution_count": null,
   "metadata": {
    "execution": {
     "iopub.execute_input": "2022-11-07T18:54:55.166232Z",
     "iopub.status.busy": "2022-11-07T18:54:55.165479Z",
     "iopub.status.idle": "2022-11-07T18:54:55.179312Z",
     "shell.execute_reply": "2022-11-07T18:54:55.178069Z",
     "shell.execute_reply.started": "2022-11-07T18:54:55.166184Z"
    }
   },
   "outputs": [],
   "source": [
    "# need to convert to tensor \n",
    "print(type(X_train))\n",
    "print(type(X_test))\n",
    "print(type(y_train))\n",
    "print(type(y_test))"
   ]
  },
  {
   "cell_type": "code",
   "execution_count": null,
   "metadata": {
    "execution": {
     "iopub.execute_input": "2022-11-07T18:54:55.182207Z",
     "iopub.status.busy": "2022-11-07T18:54:55.180938Z",
     "iopub.status.idle": "2022-11-07T18:54:55.190677Z",
     "shell.execute_reply": "2022-11-07T18:54:55.189714Z",
     "shell.execute_reply.started": "2022-11-07T18:54:55.18216Z"
    }
   },
   "outputs": [],
   "source": [
    "# Convert data to dataloader \n",
    "# 1. convert to en tensor dataset \n",
    "train = torch.utils.data.TensorDataset(X_train,y_train)\n",
    "test = torch.utils.data.TensorDataset(X_test,y_test)\n",
    "\n",
    "# Convert to dataloader \n",
    "BATCH_SIZE = 32\n",
    "train_dataloader = DataLoader(train,BATCH_SIZE, shuffle = False)\n",
    "test_dataloader = DataLoader(test,BATCH_SIZE, shuffle = False)"
   ]
  },
  {
   "cell_type": "code",
   "execution_count": null,
   "metadata": {
    "execution": {
     "iopub.execute_input": "2022-11-07T18:54:55.192898Z",
     "iopub.status.busy": "2022-11-07T18:54:55.192447Z",
     "iopub.status.idle": "2022-11-07T18:54:55.211411Z",
     "shell.execute_reply": "2022-11-07T18:54:55.209964Z",
     "shell.execute_reply.started": "2022-11-07T18:54:55.192853Z"
    }
   },
   "outputs": [],
   "source": [
    "# Let's check out what what we've created\n",
    "print(f\"Length of train_dataloader: {len(train_dataloader)} batches of {BATCH_SIZE}...\")\n",
    "print(f\"Length of test_dataloader: {len(test_dataloader)} batches of {BATCH_SIZE}...\")\n"
   ]
  },
  {
   "cell_type": "code",
   "execution_count": null,
   "metadata": {
    "execution": {
     "iopub.execute_input": "2022-11-07T18:54:55.213853Z",
     "iopub.status.busy": "2022-11-07T18:54:55.212784Z",
     "iopub.status.idle": "2022-11-07T18:54:55.222082Z",
     "shell.execute_reply": "2022-11-07T18:54:55.221135Z",
     "shell.execute_reply.started": "2022-11-07T18:54:55.213813Z"
    }
   },
   "outputs": [],
   "source": [
    "class Digits_model0(nn.Module):\n",
    "    def __init__(self,input_shape : int, output_shape : int, hidden_units :int):\n",
    "        super().__init__()\n",
    "        \n",
    "        self.layer_stack = nn.Sequential(\n",
    "        nn.Flatten(),\n",
    "        nn.Linear(input_shape, hidden_units),\n",
    "        nn.Linear(hidden_units, output_shape))\n",
    "    def forward (self,x): \n",
    "        return self.layer_stack(x)"
   ]
  },
  {
   "cell_type": "code",
   "execution_count": null,
   "metadata": {
    "execution": {
     "iopub.execute_input": "2022-11-07T18:54:55.224046Z",
     "iopub.status.busy": "2022-11-07T18:54:55.223452Z",
     "iopub.status.idle": "2022-11-07T18:54:55.250097Z",
     "shell.execute_reply": "2022-11-07T18:54:55.24899Z",
     "shell.execute_reply.started": "2022-11-07T18:54:55.224012Z"
    }
   },
   "outputs": [],
   "source": [
    "torch.manual_seed(42)\n",
    "model_0 = Digits_model0(784,10,len(class_names))"
   ]
  },
  {
   "cell_type": "code",
   "execution_count": null,
   "metadata": {
    "execution": {
     "iopub.execute_input": "2022-11-07T18:54:55.256822Z",
     "iopub.status.busy": "2022-11-07T18:54:55.256379Z",
     "iopub.status.idle": "2022-11-07T18:54:55.276159Z",
     "shell.execute_reply": "2022-11-07T18:54:55.274652Z",
     "shell.execute_reply.started": "2022-11-07T18:54:55.256783Z"
    }
   },
   "outputs": [],
   "source": [
    "# TRAINING FUNCTION\n",
    "def train_step(model: torch.nn.Module,\n",
    "               data_loader: torch.utils.data.DataLoader,\n",
    "               loss_fn: torch.nn.Module,\n",
    "               optimizer: torch.optim.Optimizer,\n",
    "              accuracy_fn):\n",
    "    train_loss, train_acc = 0, 0\n",
    "    \n",
    "    model.train()\n",
    "    for batch, (X,y) in enumerate(data_loader):\n",
    "        y_pred = model(X)\n",
    "        \n",
    "        loss = loss_fn(y_pred,y)\n",
    "        train_loss += loss\n",
    "        train_acc += accuracy_fn(y, y_pred.argmax(dim =1))\n",
    "        \n",
    "        optimizer.zero_grad()\n",
    "        loss.backward()\n",
    "        optimizer.step()\n",
    "        \n",
    "    train_loss /= len(data_loader)\n",
    "    train_acc /= len(data_loader)\n",
    "    \n",
    "    print(f\"Train loss : {train_loss : .5f}, Train acc : {train_acc : .5f}%\")\n",
    "    \n",
    "# TEST FUNCTION \n",
    "def test_step(model: torch.nn.Module,\n",
    "              dataloader: torch.utils.data.DataLoader, \n",
    "              loss_fn: torch.nn.Module,\n",
    "              accuracy_fn):\n",
    "    test_loss, test_acc = 0,0 \n",
    "    \n",
    "    model.eval()\n",
    "    \n",
    "    with torch.inference_mode():\n",
    "        for X,y in dataloader:\n",
    "            test_pred = model(X)\n",
    "            test_loss += loss_fn(test_pred,y)\n",
    "            test_acc += accuracy_fn(y,test_pred.argmax(dim =1))\n",
    "            \n",
    "        test_loss /= len(dataloader)\n",
    "        test_acc /= len(dataloader)\n",
    "    print(f\"Test loss : {test_loss : .5f}, Train acc : {test_acc : .5f}%\")\n",
    "        \n",
    "# Move values to device\n",
    "torch.manual_seed(42)\n",
    "def eval_model(model: torch.nn.Module, \n",
    "               data_loader: torch.utils.data.DataLoader, \n",
    "               loss_fn: torch.nn.Module, \n",
    "               accuracy_fn):\n",
    "    loss, acc = 0, 0\n",
    "    model.eval()\n",
    "    with torch.inference_mode():\n",
    "        for X, y in data_loader:\n",
    "            # Send data to the target device\n",
    "            X, y = X, y\n",
    "            y_pred = model(X)\n",
    "            loss += loss_fn(y_pred, y)\n",
    "            acc += accuracy_fn(y_true=y, y_pred=y_pred.argmax(dim=1))\n",
    "        \n",
    "        loss /= len(data_loader)\n",
    "        acc /= len(data_loader)\n",
    "    return {\"model_name\": model.__class__.__name__, # only works when model was created with a class\n",
    "            \"model_loss\": loss.item(),\n",
    "            \"model_acc\": acc}"
   ]
  },
  {
   "cell_type": "code",
   "execution_count": null,
   "metadata": {
    "execution": {
     "iopub.execute_input": "2022-11-07T18:55:20.475018Z",
     "iopub.status.busy": "2022-11-07T18:55:20.474444Z",
     "iopub.status.idle": "2022-11-07T18:55:30.45719Z",
     "shell.execute_reply": "2022-11-07T18:55:30.455984Z",
     "shell.execute_reply.started": "2022-11-07T18:55:20.474968Z"
    }
   },
   "outputs": [],
   "source": [
    "torch.manual_seed(42)\n",
    "loss_fn = nn.CrossEntropyLoss()\n",
    "optimizer = torch.optim.SGD(params = model_0.parameters(),lr = 0.01)\n",
    "\n",
    "epochs = 10 \n",
    "\n",
    "for epoch in tqdm(range(epochs)):\n",
    "    if epoch % 10 == 0 : \n",
    "        print(f\"Epoch : {epoch} \\n------\")\n",
    "        \n",
    "    train_step(model_0,\n",
    "              train_dataloader,\n",
    "               loss_fn,\n",
    "              optimizer,\n",
    "              accuracy_fn)\n",
    "    test_step(model_0,\n",
    "             test_dataloader,\n",
    "             loss_fn,\n",
    "             accuracy_fn)\n"
   ]
  },
  {
   "cell_type": "code",
   "execution_count": null,
   "metadata": {
    "execution": {
     "iopub.execute_input": "2022-11-07T18:55:30.460831Z",
     "iopub.status.busy": "2022-11-07T18:55:30.460054Z",
     "iopub.status.idle": "2022-11-07T18:55:30.587994Z",
     "shell.execute_reply": "2022-11-07T18:55:30.586703Z",
     "shell.execute_reply.started": "2022-11-07T18:55:30.460712Z"
    }
   },
   "outputs": [],
   "source": [
    "model_0_results = eval_model(model=model_0, data_loader=test_dataloader,\n",
    "    loss_fn=loss_fn, accuracy_fn=accuracy_fn\n",
    ")\n",
    "model_0_results"
   ]
  },
  {
   "cell_type": "markdown",
   "metadata": {},
   "source": [
    "## Model 2 "
   ]
  },
  {
   "cell_type": "code",
   "execution_count": null,
   "metadata": {
    "execution": {
     "iopub.execute_input": "2022-11-07T18:55:30.589941Z",
     "iopub.status.busy": "2022-11-07T18:55:30.589424Z",
     "iopub.status.idle": "2022-11-07T18:55:30.601078Z",
     "shell.execute_reply": "2022-11-07T18:55:30.599585Z",
     "shell.execute_reply.started": "2022-11-07T18:55:30.589888Z"
    }
   },
   "outputs": [],
   "source": [
    "class Digits_Model2(nn.Module):\n",
    "    def __init__(self,input_shape : int, output_shape : int, hidden_units : int):\n",
    "        super().__init__()\n",
    "        self.block_1 = nn.Sequential(\n",
    "            nn.Conv2d(input_shape, hidden_units,kernel_size = 3, \n",
    "                     stride = 1, padding = 1),\n",
    "            nn.ReLU(),\n",
    "            nn.Conv2d(hidden_units, hidden_units, kernel_size = 3, stride = 1, padding = 1),\n",
    "            nn.ReLU(),\n",
    "            nn.MaxPool2d(kernel_size = 2)\n",
    "        )\n",
    "        \n",
    "        self.block_2 = nn.Sequential(\n",
    "            nn.Conv2d(hidden_units,hidden_units, kernel_size = 3, padding = 1, stride = 1 ),\n",
    "            nn.ReLU(),\n",
    "            nn.Conv2d(hidden_units, hidden_units, kernel_size = 2, padding = 1, stride = 1 ),\n",
    "            nn.ReLU(),\n",
    "            nn.MaxPool2d(2))\n",
    "        \n",
    "        self.classifier = nn.Sequential(\n",
    "            nn.Flatten(),\n",
    "            nn.Linear(hidden_units*7*7, output_shape))\n",
    "        \n",
    "        \n",
    "    def forward(self,x ):\n",
    "        x = x.permute(0,3, 2, 1)\n",
    "        x = self.block_1(x)\n",
    "       #1 print(x.shape)\n",
    "        x = self.block_2(x)\n",
    "     \n",
    "        x = self.classifier(x)\n",
    "        #print(x.shape)\n",
    "        return x \n",
    "        #return self.classifier(self.conv_bloc_2(self.conv_block_1(x))).unsqueeze(dim = 0 )"
   ]
  },
  {
   "cell_type": "code",
   "execution_count": null,
   "metadata": {
    "execution": {
     "iopub.execute_input": "2022-11-07T18:55:30.603793Z",
     "iopub.status.busy": "2022-11-07T18:55:30.603032Z",
     "iopub.status.idle": "2022-11-07T18:55:30.627437Z",
     "shell.execute_reply": "2022-11-07T18:55:30.626324Z",
     "shell.execute_reply.started": "2022-11-07T18:55:30.603745Z"
    }
   },
   "outputs": [],
   "source": [
    "torch.manual_seed(42)\n",
    "model_2 = Digits_Model2(input_shape = 1,\n",
    "                              hidden_units = 10,\n",
    "                              output_shape = len(class_names))\n",
    "model_2"
   ]
  },
  {
   "cell_type": "code",
   "execution_count": null,
   "metadata": {
    "execution": {
     "iopub.execute_input": "2022-11-07T18:56:21.680618Z",
     "iopub.status.busy": "2022-11-07T18:56:21.680196Z",
     "iopub.status.idle": "2022-11-07T19:01:01.498979Z",
     "shell.execute_reply": "2022-11-07T19:01:01.497824Z",
     "shell.execute_reply.started": "2022-11-07T18:56:21.680582Z"
    }
   },
   "outputs": [],
   "source": [
    "torch.manual_seed(42)\n",
    "loss_fn = nn.CrossEntropyLoss()\n",
    "optimizer = torch.optim.SGD(params = model_2.parameters(),lr = 0.01)\n",
    "\n",
    "epochs = 20 \n",
    "\n",
    "for epoch in tqdm(range(epochs)):\n",
    "    if epoch % 10 == 0 : \n",
    "        print(f\"Epoch : {epoch} \\n------\")\n",
    "        \n",
    "    train_step(model_2,\n",
    "              train_dataloader,\n",
    "               loss_fn,\n",
    "              optimizer,\n",
    "              accuracy_fn)\n",
    "    test_step(model_2,\n",
    "             test_dataloader,\n",
    "             loss_fn,\n",
    "             accuracy_fn)\n"
   ]
  },
  {
   "cell_type": "code",
   "execution_count": null,
   "metadata": {
    "execution": {
     "iopub.execute_input": "2022-11-07T19:01:18.253744Z",
     "iopub.status.busy": "2022-11-07T19:01:18.253286Z",
     "iopub.status.idle": "2022-11-07T19:01:19.578136Z",
     "shell.execute_reply": "2022-11-07T19:01:19.576993Z",
     "shell.execute_reply.started": "2022-11-07T19:01:18.253705Z"
    }
   },
   "outputs": [],
   "source": [
    "model_2_results = eval_model(model=model_2, data_loader=test_dataloader,\n",
    "    loss_fn=loss_fn, accuracy_fn=accuracy_fn\n",
    ")\n",
    "model_2_results"
   ]
  },
  {
   "cell_type": "code",
   "execution_count": null,
   "metadata": {
    "execution": {
     "iopub.execute_input": "2022-11-07T19:01:40.474408Z",
     "iopub.status.busy": "2022-11-07T19:01:40.473995Z",
     "iopub.status.idle": "2022-11-07T19:01:40.485331Z",
     "shell.execute_reply": "2022-11-07T19:01:40.484256Z",
     "shell.execute_reply.started": "2022-11-07T19:01:40.474374Z"
    }
   },
   "outputs": [],
   "source": [
    "sample_submission.head()"
   ]
  },
  {
   "cell_type": "code",
   "execution_count": null,
   "metadata": {
    "execution": {
     "iopub.execute_input": "2022-11-07T19:01:56.694442Z",
     "iopub.status.busy": "2022-11-07T19:01:56.694016Z",
     "iopub.status.idle": "2022-11-07T19:01:56.757008Z",
     "shell.execute_reply": "2022-11-07T19:01:56.755665Z",
     "shell.execute_reply.started": "2022-11-07T19:01:56.694406Z"
    }
   },
   "outputs": [],
   "source": [
    "test_data = test_data/255\n",
    "test_data"
   ]
  },
  {
   "cell_type": "code",
   "execution_count": null,
   "metadata": {
    "execution": {
     "iopub.execute_input": "2022-11-07T19:02:12.284074Z",
     "iopub.status.busy": "2022-11-07T19:02:12.283626Z",
     "iopub.status.idle": "2022-11-07T19:02:12.289498Z",
     "shell.execute_reply": "2022-11-07T19:02:12.288202Z",
     "shell.execute_reply.started": "2022-11-07T19:02:12.284036Z"
    }
   },
   "outputs": [],
   "source": [
    "test_data = test_data.values.reshape(-1,28,28,1)"
   ]
  },
  {
   "cell_type": "code",
   "execution_count": null,
   "metadata": {
    "execution": {
     "iopub.execute_input": "2022-11-07T19:02:14.334099Z",
     "iopub.status.busy": "2022-11-07T19:02:14.333663Z",
     "iopub.status.idle": "2022-11-07T19:02:14.340182Z",
     "shell.execute_reply": "2022-11-07T19:02:14.338494Z",
     "shell.execute_reply.started": "2022-11-07T19:02:14.33406Z"
    }
   },
   "outputs": [],
   "source": [
    "test_data = torch.from_numpy(test_data)"
   ]
  },
  {
   "cell_type": "code",
   "execution_count": null,
   "metadata": {
    "execution": {
     "iopub.execute_input": "2022-11-07T19:03:05.691952Z",
     "iopub.status.busy": "2022-11-07T19:03:05.691535Z",
     "iopub.status.idle": "2022-11-07T19:03:13.720941Z",
     "shell.execute_reply": "2022-11-07T19:03:13.719793Z",
     "shell.execute_reply.started": "2022-11-07T19:03:05.691894Z"
    }
   },
   "outputs": [],
   "source": [
    "prediction = model_2(test_data)"
   ]
  },
  {
   "cell_type": "code",
   "execution_count": null,
   "metadata": {
    "execution": {
     "iopub.execute_input": "2022-11-07T19:12:36.20284Z",
     "iopub.status.busy": "2022-11-07T19:12:36.202427Z",
     "iopub.status.idle": "2022-11-07T19:12:36.215338Z",
     "shell.execute_reply": "2022-11-07T19:12:36.214005Z",
     "shell.execute_reply.started": "2022-11-07T19:12:36.202809Z"
    }
   },
   "outputs": [],
   "source": [
    "my_pred = prediction.argmax(dim = 1).detach().numpy()"
   ]
  },
  {
   "cell_type": "code",
   "execution_count": null,
   "metadata": {
    "execution": {
     "iopub.execute_input": "2022-11-07T19:16:58.829253Z",
     "iopub.status.busy": "2022-11-07T19:16:58.828804Z",
     "iopub.status.idle": "2022-11-07T19:16:58.836919Z",
     "shell.execute_reply": "2022-11-07T19:16:58.835642Z",
     "shell.execute_reply.started": "2022-11-07T19:16:58.829217Z"
    }
   },
   "outputs": [],
   "source": [
    "results = pd.Series(my_pred,name = \"Label\")\n",
    "submission = pd.concat([pd.Series(range(1,28001),name = \"ImageId\"),results], axis = 1 )"
   ]
  },
  {
   "cell_type": "code",
   "execution_count": null,
   "metadata": {
    "execution": {
     "iopub.execute_input": "2022-11-07T19:27:09.355456Z",
     "iopub.status.busy": "2022-11-07T19:27:09.355083Z",
     "iopub.status.idle": "2022-11-07T19:27:09.390204Z",
     "shell.execute_reply": "2022-11-07T19:27:09.389337Z",
     "shell.execute_reply.started": "2022-11-07T19:27:09.355426Z"
    }
   },
   "outputs": [],
   "source": [
    "submission.to_csv('submission.csv',index = False )"
   ]
  },
  {
   "cell_type": "code",
   "execution_count": null,
   "metadata": {
    "execution": {
     "iopub.execute_input": "2022-11-07T19:27:10.396023Z",
     "iopub.status.busy": "2022-11-07T19:27:10.395234Z",
     "iopub.status.idle": "2022-11-07T19:27:10.4073Z",
     "shell.execute_reply": "2022-11-07T19:27:10.406084Z",
     "shell.execute_reply.started": "2022-11-07T19:27:10.395983Z"
    }
   },
   "outputs": [],
   "source": [
    "submission"
   ]
  },
  {
   "cell_type": "code",
   "execution_count": null,
   "metadata": {},
   "outputs": [],
   "source": []
  }
 ],
 "metadata": {
  "kernelspec": {
   "display_name": "Python 3 (ipykernel)",
   "language": "python",
   "name": "python3"
  },
  "language_info": {
   "codemirror_mode": {
    "name": "ipython",
    "version": 3
   },
   "file_extension": ".py",
   "mimetype": "text/x-python",
   "name": "python",
   "nbconvert_exporter": "python",
   "pygments_lexer": "ipython3",
   "version": "3.9.13"
  }
 },
 "nbformat": 4,
 "nbformat_minor": 4
}
